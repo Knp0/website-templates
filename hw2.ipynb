{
  "cells": [
    {
      "cell_type": "markdown",
      "metadata": {
        "id": "view-in-github",
        "colab_type": "text"
      },
      "source": [
        "<a href=\"https://colab.research.google.com/github/Knp0/website-templates/blob/master/hw2.ipynb\" target=\"_parent\"><img src=\"https://colab.research.google.com/assets/colab-badge.svg\" alt=\"Open In Colab\"/></a>"
      ]
    },
    {
      "cell_type": "markdown",
      "metadata": {
        "id": "tXUwfgHPQE8V"
      },
      "source": [
        "# Bike Rides and the Poisson Model\n",
        "\n",
        "To help the urban planners, you are called to model the daily bike rides in NYC using [this dataset](https://gist.github.com/sachinsdate/c17931a3f000492c1c42cf78bf4ce9fe/archive/7a5131d3f02575668b3c7e8c146b6a285acd2cd7.zip).  The dataset contains date, day of the week, high and low temp, precipitation and bike ride couunts as columns. \n",
        "\n"
      ]
    },
    {
      "cell_type": "markdown",
      "metadata": {
        "id": "4H7QNtl8QE8Y"
      },
      "source": [
        "## Maximum Likelihood I \n",
        " \n",
        "The obvious choice in distributions is the [Poisson distribution](https://en.wikipedia.org/wiki/Poisson_distribution) which depends only on one parameter, λ, which is the average number of occurrences per interval. We want to estimate this parameter using Maximum Likelihood Estimation.\n",
        "\n",
        "Implement a Gradient Descent algorithm from scratch that will estimate the Poisson distribution according to the Maximum Likelihood criterion. Plot the estimated mean vs iterations to showcase convergence towards the true mean. \n",
        "\n",
        "References: \n",
        "\n",
        "1. [This blog post](https://towardsdatascience.com/the-poisson-process-everything-you-need-to-know-322aa0ab9e9a). \n",
        "\n",
        "2. [This blog post](https://towardsdatascience.com/understanding-maximum-likelihood-estimation-fa495a03017a) and note the negative  log likelihood function.  \n"
      ]
    },
    {
      "cell_type": "code",
      "source": [
        "from google.colab import drive\n",
        "drive.mount('/content/drive')\n",
        "%ls"
      ],
      "metadata": {
        "colab": {
          "base_uri": "https://localhost:8080/"
        },
        "id": "P_e7F1_jQ7X5",
        "outputId": "15299809-a6c7-495e-a93b-a94c625a4c49"
      },
      "execution_count": 36,
      "outputs": [
        {
          "output_type": "stream",
          "name": "stdout",
          "text": [
            "Drive already mounted at /content/drive; to attempt to forcibly remount, call drive.mount(\"/content/drive\", force_remount=True).\n",
            "[Errno 2] No such file or directory: 'Colab-Notebooks/'\n",
            "/content/drive/MyDrive/Colab-Notebooks\n",
            "1.5hw.ipynb  hw2.ipynb    nyc_bb_bicyclist_counts.csv\n",
            "CS482.ipynb  kaggle.json  Untitled0.ipynb\n"
          ]
        }
      ]
    },
    {
      "cell_type": "code",
      "execution_count": 35,
      "metadata": {
        "colab": {
          "base_uri": "https://localhost:8080/",
          "height": 279
        },
        "id": "e9i6U-xjQE8Z",
        "outputId": "da5341c3-4b51-44aa-f5f2-bd7758e48d7f"
      },
      "outputs": [
        {
          "output_type": "display_data",
          "data": {
            "text/plain": [
              "<Figure size 432x288 with 1 Axes>"
            ],
            "image/png": "[encoded data removed]"
          },
          "metadata": {
            "needs_background": "light"
          }
        }
      ],
      "source": [
        "import numpy as np\n",
        "import pandas as pd\n",
        "import matplotlib.pyplot as plt\n",
        "\n",
        "# Load dataset\n",
        "data = pd.read_csv('nyc_bb_bicyclist_counts.csv')\n",
        "\n",
        "# Extract the bike ride counts column\n",
        "counts = data['BB_COUNT'].values\n",
        "\n",
        "# Initialize lambda \n",
        "lambda_ = 50\n",
        "\n",
        "# Set the learning rate and number of iterations\n",
        "learning_rate = 0.1\n",
        "num_iterations = 1000\n",
        "\n",
        "# Initialize the list to store the estimated means\n",
        "estimated_means = []\n",
        "\n",
        "# Iterate over the number of iterations\n",
        "for i in range(num_iterations):\n",
        "    dNLL_dlambda = -np.sum(counts/lambda_ - 1)\n",
        "    lambda_ -= learning_rate * dNLL_dlambda\n",
        "    estimated_means.append(lambda_)\n",
        "    \n",
        "# Plot the estimated means vs iterations\n",
        "plt.plot(estimated_means)\n",
        "plt.axhline(y=np.mean(counts), color='r', linestyle='--', label='True Mean')\n",
        "plt.xlabel('Iterations')\n",
        "plt.ylabel('Estimated Mean')\n",
        "plt.legend()\n",
        "plt.show()"
      ]
    },
    {
      "cell_type": "markdown",
      "source": [
        "# New Section"
      ],
      "metadata": {
        "id": "5EEsnNZmRWks"
      }
    },
    {
      "cell_type": "code",
      "source": [],
      "metadata": {
        "colab": {
          "base_uri": "https://localhost:8080/"
        },
        "id": "zgloN4KpRaE-",
        "outputId": "3c4a8c3d-9070-4796-a324-7665406dc3ab"
      },
      "execution_count": null,
      "outputs": [
        {
          "output_type": "stream",
          "name": "stdout",
          "text": [
            "Mounted at /content/drive\n"
          ]
        }
      ]
    },
    {
      "cell_type": "markdown",
      "metadata": {
        "id": "ynTWYdNVQE8b"
      },
      "source": [
        "## Maximum Likelihood II\n",
        "\n",
        "A colleague of yours suggest that the parameter $\\lambda$ must be itself dependent on the weather and other factors since people bike when its not raining. Assume that you model $\\lambda$ as \n",
        "\n",
        "$$\\lambda_i = \\exp(\\mathbf w^T \\mathbf x_i)$$\n",
        "\n",
        "where $\\mathbf x_i$ is one of the example features and $\\mathbf w$ is a set of parameters. \n",
        "\n",
        "Train the model with SGD with this assumption and compare the MSE of the predictions with the `Maximum Likelihood I` approach. \n",
        "\n",
        "You may want to use [this partial derivative of the log likelihood function](http://home.cc.umanitoba.ca/~godwinrt/7010/poissonregression.pdf)"
      ]
    },
    {
      "cell_type": "code",
      "execution_count": null,
      "metadata": {
        "id": "6ehSWXbzQE8c"
      },
      "outputs": [],
      "source": [
        "# "
      ]
    }
  ],
  "metadata": {
    "kernelspec": {
      "display_name": "Python 3",
      "language": "python",
      "name": "python3"
    },
    "language_info": {
      "codemirror_mode": {
        "name": "ipython",
        "version": 3
      },
      "file_extension": ".py",
      "mimetype": "text/x-python",
      "name": "python",
      "nbconvert_exporter": "python",
      "pygments_lexer": "ipython3",
      "version": "3.10.7"
    },
    "orig_nbformat": 4,
    "vscode": {
      "interpreter": {
        "hash": "369f2c481f4da34e4445cda3fffd2e751bd1c4d706f27375911949ba6bb62e1c"
      }
    },
    "colab": {
      "provenance": [],
      "include_colab_link": true
    }
  },
  "nbformat": 4,
  "nbformat_minor": 0
}